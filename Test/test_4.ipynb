{
 "cells": [
  {
   "cell_type": "code",
   "execution_count": 1,
   "metadata": {},
   "outputs": [],
   "source": [
    "import numpy as np"
   ]
  },
  {
   "cell_type": "code",
   "execution_count": 3,
   "metadata": {},
   "outputs": [
    {
     "name": "stdout",
     "output_type": "stream",
     "text": [
      "0.0\n",
      "2.0\n"
     ]
    }
   ],
   "source": [
    "a = np.round(0.5)\n",
    "print(a)\n",
    "b = np.round(1.5)\n",
    "print(b)"
   ]
  },
  {
   "cell_type": "code",
   "execution_count": 12,
   "metadata": {},
   "outputs": [
    {
     "name": "stdout",
     "output_type": "stream",
     "text": [
      "[3, 2, 1]\n"
     ]
    }
   ],
   "source": [
    "c = [1,2,3]\n",
    "c.reverse()\n",
    "print(c)"
   ]
  },
  {
   "cell_type": "code",
   "execution_count": 13,
   "metadata": {},
   "outputs": [
    {
     "name": "stdout",
     "output_type": "stream",
     "text": [
      "[[1. 0. 0.]\n",
      " [0. 1. 0.]\n",
      " [0. 0. 1.]]\n"
     ]
    }
   ],
   "source": [
    "d = np.eye(3)\n",
    "print(d)"
   ]
  },
  {
   "cell_type": "code",
   "execution_count": 16,
   "metadata": {},
   "outputs": [
    {
     "name": "stdout",
     "output_type": "stream",
     "text": [
      "[[0. 0. 0. 0. 0. 0. 0. 0. 0. 0.]\n",
      " [0. 1. 1. 1. 1. 1. 1. 1. 1. 0.]\n",
      " [0. 1. 1. 1. 1. 1. 1. 1. 1. 0.]\n",
      " [0. 1. 1. 1. 1. 1. 1. 1. 1. 0.]\n",
      " [0. 1. 1. 1. 1. 1. 1. 1. 1. 0.]\n",
      " [0. 1. 1. 1. 1. 1. 1. 1. 1. 0.]\n",
      " [0. 1. 1. 1. 1. 1. 1. 1. 1. 0.]\n",
      " [0. 1. 1. 1. 1. 1. 1. 1. 1. 0.]\n",
      " [0. 1. 1. 1. 1. 1. 1. 1. 1. 0.]\n",
      " [0. 0. 0. 0. 0. 0. 0. 0. 0. 0.]]\n"
     ]
    }
   ],
   "source": [
    "b = np.ones((10,10))\n",
    "b[:,[0, -1]]=0\n",
    "b[[0, -1],:]=0\n",
    "print(b)"
   ]
  },
  {
   "cell_type": "code",
   "execution_count": 49,
   "metadata": {},
   "outputs": [
    {
     "name": "stdout",
     "output_type": "stream",
     "text": [
      "a =  [0.8024121  0.96100716 0.98181425 0.16630791 0.784605   0.80949175\n",
      " 0.42572578 0.49391145 0.2549854  0.67530363]\n",
      "a =  [ 0.8024121   0.96100716  0.98181425  0.16630791  0.784605    0.80949175\n",
      " 10.42572578 10.49391145 10.2549854  10.67530363]\n"
     ]
    }
   ],
   "source": [
    "a = np.random.rand(10)\n",
    "print('a = ', a)\n",
    "for i in range(10):\n",
    "    if a[i] >= 0.2 and a[i] <= 0.7:\n",
    "        a[i] += 10\n",
    "\n",
    "print('a = ', a)\n"
   ]
  },
  {
   "cell_type": "code",
   "execution_count": 52,
   "metadata": {},
   "outputs": [
    {
     "name": "stdout",
     "output_type": "stream",
     "text": [
      "[-3.3  -2.5  -1.5  -0.75 -0.5   0.5   0.75  1.5   2.5   3.  ]\n",
      "[-3. -2. -2. -1. -0.  0.  1.  2.  2.  3.]\n",
      "[-3. -2. -1. -0. -0.  1.  1.  2.  3.  3.]\n",
      "[-4. -3. -2. -1. -1.  0.  0.  1.  2.  3.]\n",
      "[-3. -2. -1. -0. -0.  0.  0.  1.  2.  3.]\n"
     ]
    }
   ],
   "source": [
    "a = np.array([-3.3, -2.5, -1.5, -0.75, -0.5, 0.5, 0.75, 1.5, 2.5, 3])\n",
    "a1 = np.round(a)  # [-3. -2. -2. -1. -0.  0.  1.  2.  2.  3.]\n",
    "a2 = np.ceil(a)  # [-3. -2. -1. -0. -0.  1.  1.  2.  3.  3.]\n",
    "a3 = np.floor(a)  # [-4. -3. -2. -1. -1.  0.  0.  1.  2.  3.]\n",
    "a4 = np.trunc(a)  # [-3. -2. -1. -0. -0.  0.  0.  1.  2.  3.]\n",
    "print(a)\n",
    "print(a1)\n",
    "print(a2)\n",
    "print(a3)\n",
    "print(a4)"
   ]
  },
  {
   "cell_type": "code",
   "execution_count": 60,
   "metadata": {},
   "outputs": [
    {
     "name": "stdout",
     "output_type": "stream",
     "text": [
      "[[7.32081303 1.92905363 1.35637665 8.72497438]\n",
      " [7.44509494 0.92375022 3.84146088 9.58997745]\n",
      " [5.0607218  4.94813637 7.97516268 8.85402737]\n",
      " [4.69241032 3.46128887 5.75416594 3.89217725]]\n"
     ]
    }
   ],
   "source": [
    "x = 10*np.random.rand(4,4)\n",
    "oo = np.ones((4,4))\n",
    "s2c2 = np.square(np.sin(x))+np.square(np.cos(x))\n",
    "np.equal(oo,s2c2)\n",
    "np.allclose(oo,s2c2)\n",
    "print(x)"
   ]
  },
  {
   "cell_type": "code",
   "execution_count": 67,
   "metadata": {},
   "outputs": [
    {
     "name": "stdout",
     "output_type": "stream",
     "text": [
      "[2 3 3 4 5 5 6 6 7 8]\n"
     ]
    }
   ],
   "source": [
    "x = np.random.randint(1,10,10)\n",
    "x.sort()\n",
    "print(x)"
   ]
  },
  {
   "cell_type": "code",
   "execution_count": 69,
   "metadata": {},
   "outputs": [
    {
     "data": {
      "text/plain": [
       "array([0, 1, 2, 3, 4, 5, 6, 7, 8, 9])"
      ]
     },
     "execution_count": 69,
     "metadata": {},
     "output_type": "execute_result"
    }
   ],
   "source": [
    "np.argsort(x)"
   ]
  },
  {
   "cell_type": "code",
   "execution_count": 72,
   "metadata": {},
   "outputs": [
    {
     "data": {
      "text/plain": [
       "array([[0., 0., 0., 0., 1., 1., 1., 1.],\n",
       "       [0., 0., 0., 0., 1., 1., 1., 1.],\n",
       "       [0., 0., 0., 0., 1., 1., 1., 1.],\n",
       "       [0., 0., 0., 0., 1., 1., 1., 1.]])"
      ]
     },
     "execution_count": 72,
     "metadata": {},
     "output_type": "execute_result"
    }
   ],
   "source": [
    "z = np.zeros((4,4))\n",
    "o = np.ones((4,4))\n",
    "np.concatenate((z,o))\n",
    "np.concatenate((z,o),axis=1)"
   ]
  }
 ],
 "metadata": {
  "kernelspec": {
   "display_name": "Python 3",
   "language": "python",
   "name": "python3"
  },
  "language_info": {
   "codemirror_mode": {
    "name": "ipython",
    "version": 3
   },
   "file_extension": ".py",
   "mimetype": "text/x-python",
   "name": "python",
   "nbconvert_exporter": "python",
   "pygments_lexer": "ipython3",
   "version": "3.13.1"
  }
 },
 "nbformat": 4,
 "nbformat_minor": 2
}
