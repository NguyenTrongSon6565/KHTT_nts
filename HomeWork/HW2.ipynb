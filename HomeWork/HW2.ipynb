{
 "cells": [
  {
   "cell_type": "markdown",
   "metadata": {},
   "source": [
    "Cho hai ma trận sau:\n",
    "\n",
    "Ma trận A = [[1,3,4], [2,2,6], [3,2,1]]\n",
    "\n",
    "Ma trận B = [[2,5,1], [1,3,4], [3,2,3]]\n",
    "\n",
    "Sử dụng Numpy để thực hiện các phép tính sau:\n",
    "1. Tính định thức của hai ma trận A và B\n",
    "2. Tính ma trận nghịch đảo của hai ma trận A và B\n",
    "3. Tính hạng của hai ma trận A và B\n",
    "4. Tính hiệu, tổng, tích của hai ma trận A và B\n",
    "5. Tìm ma trận chuyển vị của hai ma trận A và B\n",
    "\n",
    "\n"
   ]
  },
  {
   "cell_type": "code",
   "execution_count": 13,
   "metadata": {},
   "outputs": [
    {
     "name": "stdout",
     "output_type": "stream",
     "text": [
      "A = [\n",
      "  [ 1  4  2]\n",
      "  [ 1  6  9]\n",
      "  [ 9  5  1]\n",
      "]\n",
      "B = [\n",
      "  [ 2  5  1]\n",
      "  [ 1  3  4]\n",
      "  [ 3  2  3]\n",
      "]\n"
     ]
    }
   ],
   "source": [
    "import numpy as np # Khai bao thu vien numpy\n",
    "X = np.array([[1,3,4,2,1], [2,2,6,1,5], [3,2,1,6,8], [1,2,3,4,5], [9,8,7,6,5]]) # Khởi tạo ma trận A\n",
    "B = np.array([[2,5,1], [1,3,4], [3,2,3]]) # Khởi tạo ma trận B\n",
    "A = np.array([[1,4,2], [1,6,9], [9,5,1]])\n",
    "\n",
    "# In ra ma trận A và B\n",
    "print('A = [')\n",
    "for row in A:\n",
    "    print(\"  [\" + \" \".join(f\"{val:2}\" for val in row) + \"]\")\n",
    "print(']')\n",
    "\n",
    "print('B = [')\n",
    "for row in B:\n",
    "    print(\"  [\" + \" \".join(f\"{val:2}\" for val in row) + \"]\")\n",
    "print(']')"
   ]
  },
  {
   "cell_type": "markdown",
   "metadata": {},
   "source": [
    "*Tính định thức của hai ma trận A và B*"
   ]
  },
  {
   "cell_type": "code",
   "execution_count": 14,
   "metadata": {},
   "outputs": [
    {
     "name": "stdout",
     "output_type": "stream",
     "text": [
      "Det(A) = 183.00\n",
      "Det(B) = 40.00\n",
      "Det(X) = -150.00\n"
     ]
    }
   ],
   "source": [
    "Det_A = np.linalg.det(A) # Tính định thức của ma trận A\n",
    "Det_B = np.linalg.det(B) # Tính định thức của ma trận B\n",
    "Det_X = np.linalg.det(X) # Tính định thức của ma trận X\n",
    "print(f'Det(A) = {Det_A:.2f}') # In ra định thức của ma trận A\n",
    "print(f'Det(B) = {Det_B:.2f}') # In ra định thức của ma trận B\n",
    "print(f'Det(X) = {Det_X:.2f}') # In ra định thức của ma trận X"
   ]
  },
  {
   "cell_type": "markdown",
   "metadata": {},
   "source": [
    "Tính ma trận nghịch đảo của hai ma trận A và B"
   ]
  },
  {
   "cell_type": "code",
   "execution_count": 15,
   "metadata": {},
   "outputs": [
    {
     "name": "stdout",
     "output_type": "stream",
     "text": [
      "A^(-1) = [\n",
      "  [-0.21 0.03 0.13]\n",
      "  [0.44 -0.09 -0.04]\n",
      "  [-0.27 0.17 0.01]\n",
      "]\n",
      "B^(-1) = [\n",
      "  [0.03 -0.33 0.42]\n",
      "  [0.22 0.07 -0.17]\n",
      "  [-0.18 0.28 0.02]\n",
      "]\n"
     ]
    }
   ],
   "source": [
    "A_inv = np.linalg.inv(A) # Tính ma trận nghịch đảo của ma trận A\n",
    "B_inv = np.linalg.inv(B) # Tính ma trận nghịch đảo của ma trận B\n",
    "\n",
    "print('A^(-1) = [') # In ra ma trận nghịch đảo của ma trận A\n",
    "for row in A_inv:\n",
    "    print(\"  [\" + \" \".join(f\"{val:2.2f}\" for val in row) + \"]\")\n",
    "print(']')\n",
    "\n",
    "print('B^(-1) = [') # In ra ma trận nghịch đảo của ma trận B\n",
    "for row in B_inv:\n",
    "    print(\"  [\" + \" \".join(f\"{val:2.2f}\" for val in row) + \"]\")\n",
    "print(']')"
   ]
  },
  {
   "cell_type": "markdown",
   "metadata": {},
   "source": [
    "Tính hạng của hai ma trận A và B"
   ]
  },
  {
   "cell_type": "code",
   "execution_count": 16,
   "metadata": {},
   "outputs": [
    {
     "name": "stdout",
     "output_type": "stream",
     "text": [
      "Rank(A) = 3\n",
      "Rank(B) = 3\n"
     ]
    }
   ],
   "source": [
    "Rank_A = np.linalg.matrix_rank(A) # Tính hạng của ma trận A\n",
    "Rank_B = np.linalg.matrix_rank(B) # Tính hạng của ma trận B\n",
    "print(f'Rank(A) = {Rank_A}') # In ra hạng của ma trận A\n",
    "print(f'Rank(B) = {Rank_B}') # In ra hạng của ma trận B"
   ]
  },
  {
   "cell_type": "markdown",
   "metadata": {},
   "source": [
    "Tính hiệu, tổng, tích của hai ma trận A và B"
   ]
  },
  {
   "cell_type": "code",
   "execution_count": 17,
   "metadata": {},
   "outputs": [
    {
     "name": "stdout",
     "output_type": "stream",
     "text": [
      "A + B = [\n",
      "  [ 3  9  3]\n",
      "  [ 2  9 13]\n",
      "  [12  7  4]\n",
      "]\n",
      "A - B = [\n",
      "  [-1 -1  1]\n",
      "  [ 0  3  5]\n",
      "  [ 6  3 -2]\n",
      "]\n",
      "A * B = [\n",
      "  [12 21 23]\n",
      "  [35 41 52]\n",
      "  [26 62 32]\n",
      "]\n"
     ]
    }
   ],
   "source": [
    "AddAB = A + B # Tính tổng của hai ma trận A và B\n",
    "SubAB = A - B # Tính hiệu của hai ma trận A và B\n",
    "MulAB = A @ B # Tính tích của hai ma trận A và B\n",
    "\n",
    "print('A + B = [') # In ra tổng của hai ma trận A và B\n",
    "for row in AddAB:\n",
    "    print(\"  [\" + \" \".join(f\"{val:2}\" for val in row) + \"]\")\n",
    "print(']')\n",
    "\n",
    "print('A - B = [') # In ra hiệu của hai ma trận A và B\n",
    "for row in SubAB:\n",
    "    print(\"  [\" + \" \".join(f\"{val:2}\" for val in row) + \"]\")\n",
    "print(']')\n",
    "\n",
    "print('A * B = [') # In ra tích của hai ma trận A và B\n",
    "for row in MulAB:\n",
    "    print(\"  [\" + \" \".join(f\"{val:2}\" for val in row) + \"]\")\n",
    "print(']')"
   ]
  },
  {
   "cell_type": "markdown",
   "metadata": {},
   "source": [
    "Tìm ma trận chuyển vị của hai ma trận A và B"
   ]
  },
  {
   "cell_type": "code",
   "execution_count": 18,
   "metadata": {},
   "outputs": [
    {
     "name": "stdout",
     "output_type": "stream",
     "text": [
      "A^T = [\n",
      "  [ 1  1  9]\n",
      "  [ 4  6  5]\n",
      "  [ 2  9  1]\n",
      "]\n",
      "B^T = [\n",
      "  [ 2  1  3]\n",
      "  [ 5  3  2]\n",
      "  [ 1  4  3]\n",
      "]\n"
     ]
    }
   ],
   "source": [
    "A_T = A.T # Tính ma trận chuyển vị của ma trận A\n",
    "B_T = B.T # Tính ma trận chuyển vị của ma trận B\n",
    "\n",
    "print('A^T = [') # In ra ma trận chuyển vị của ma trận A\n",
    "for row in A_T:\n",
    "    print(\"  [\" + \" \".join(f\"{val:2}\" for val in row) + \"]\")\n",
    "print(']')\n",
    "\n",
    "print('B^T = [') # In ra ma trận chuyển vị của ma trận B\n",
    "for row in B_T:\n",
    "    print(\"  [\" + \" \".join(f\"{val:2}\" for val in row) + \"]\")\n",
    "print(']')"
   ]
  }
 ],
 "metadata": {
  "kernelspec": {
   "display_name": "Python 3",
   "language": "python",
   "name": "python3"
  },
  "language_info": {
   "codemirror_mode": {
    "name": "ipython",
    "version": 3
   },
   "file_extension": ".py",
   "mimetype": "text/x-python",
   "name": "python",
   "nbconvert_exporter": "python",
   "pygments_lexer": "ipython3",
   "version": "3.13.1"
  }
 },
 "nbformat": 4,
 "nbformat_minor": 2
}
