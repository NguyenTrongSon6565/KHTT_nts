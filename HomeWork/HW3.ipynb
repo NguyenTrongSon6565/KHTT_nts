{
 "cells": [
  {
   "cell_type": "markdown",
   "metadata": {},
   "source": [
    "***\n",
    "> ### Một doanh nghiệp có một dự án mua các thiết bị công nghệ bao gồm: `máy chủ, máy tính, laptop, máy in, máy chiếu, tivi.`\n",
    "> ### Để xuất hoá đơn bán hàng cần có: `danh sách các thiết bị, hãng, số lượng, đơn giá, vat, tổng giá.`\n",
    "> ### `Tạo file dữ liệu` của hoá đơn và `lưu` vào file dạng `csv` sau đó `gọi` và `trích xuất` các dữ liệu mong muốn.\n",
    "***"
   ]
  },
  {
   "cell_type": "code",
   "execution_count": 23,
   "metadata": {},
   "outputs": [],
   "source": [
    "# Import pandas library \n",
    "import pandas as pd"
   ]
  },
  {
   "cell_type": "code",
   "execution_count": 24,
   "metadata": {},
   "outputs": [],
   "source": [
    "# List of Tuples\n",
    "products = [\"Host\", \"Computer\", \"Laptop\", \"Printer\", \"Projector\", \"TV\"]\n",
    "manufacturer = [\"GigaByte\", \"Dell\", \"Apple\", \"HP\", \"Hikvision\", \"Sony\"]\n",
    "quantity = [100, 200, 150, 300, 250, 175]\n",
    "price_one = [10000, 1000, 2000, 500, 1500, 3000]\n",
    "vat = [0.1, 0.1, 0.1, 0.1, 0.1, 0.1]\n",
    "sum_price = [q * p * (1 - v) for q, p, v in zip(quantity, price_one, vat)]"
   ]
  },
  {
   "cell_type": "code",
   "execution_count": 25,
   "metadata": {},
   "outputs": [],
   "source": [
    "# Dictionary of lists\n",
    "dict = {'Product': products, 'Manufacturer': manufacturer, 'Quantity': quantity, 'Price': price_one, 'VAT': vat, 'Sum Price': sum_price}\n",
    "df = pd.DataFrame(dict)"
   ]
  },
  {
   "cell_type": "code",
   "execution_count": 26,
   "metadata": {},
   "outputs": [],
   "source": [
    "# Save to csv\n",
    "df.to_csv('products.csv', index=False)"
   ]
  },
  {
   "cell_type": "code",
   "execution_count": 27,
   "metadata": {},
   "outputs": [
    {
     "name": "stdout",
     "output_type": "stream",
     "text": [
      "     Product Manufacturer  Quantity  Price  VAT  Sum Price\n",
      "0       Host     GigaByte       100  10000  0.1   900000.0\n",
      "1   Computer         Dell       200   1000  0.1   180000.0\n",
      "2     Laptop        Apple       150   2000  0.1   270000.0\n",
      "3    Printer           HP       300    500  0.1   135000.0\n",
      "4  Projector    Hikvision       250   1500  0.1   337500.0\n",
      "5         TV         Sony       175   3000  0.1   472500.0\n"
     ]
    }
   ],
   "source": [
    "# Read csv\n",
    "df = pd.read_csv('products.csv')\n",
    "print(df)"
   ]
  },
  {
   "cell_type": "code",
   "execution_count": 28,
   "metadata": {},
   "outputs": [
    {
     "name": "stdout",
     "output_type": "stream",
     "text": [
      "0         Host\n",
      "1     Computer\n",
      "2       Laptop\n",
      "3      Printer\n",
      "4    Projector\n",
      "5           TV\n",
      "Name: Product, dtype: object\n"
     ]
    }
   ],
   "source": [
    "# Trích xuất dữ liệu\n",
    "# In ra cột Product\n",
    "print(df['Product'])"
   ]
  },
  {
   "cell_type": "code",
   "execution_count": 29,
   "metadata": {},
   "outputs": [
    {
     "name": "stdout",
     "output_type": "stream",
     "text": [
      "0     GigaByte\n",
      "1         Dell\n",
      "2        Apple\n",
      "3           HP\n",
      "4    Hikvision\n",
      "5         Sony\n",
      "Name: Manufacturer, dtype: object\n"
     ]
    }
   ],
   "source": [
    "# In ra cột Manufacturer\n",
    "print(df['Manufacturer'])"
   ]
  },
  {
   "cell_type": "code",
   "execution_count": 30,
   "metadata": {},
   "outputs": [
    {
     "name": "stdout",
     "output_type": "stream",
     "text": [
      "  Product Manufacturer  Quantity  Price  VAT  Sum Price\n",
      "0    Host     GigaByte       100  10000  0.1   900000.0\n"
     ]
    }
   ],
   "source": [
    "# Show thuộc tính của sản phẩm Host\n",
    "print(df.loc[df['Product'] == 'Host'])"
   ]
  },
  {
   "cell_type": "code",
   "execution_count": 31,
   "metadata": {},
   "outputs": [
    {
     "name": "stdout",
     "output_type": "stream",
     "text": [
      "    Product Manufacturer  Quantity  Price  VAT  Sum Price\n",
      "1  Computer         Dell       200   1000  0.1   180000.0\n"
     ]
    }
   ],
   "source": [
    "# Show thuộc tính của sản phẩm Computer\n",
    "print(df.loc[df['Product'] == 'Computer'])"
   ]
  },
  {
   "cell_type": "code",
   "execution_count": 32,
   "metadata": {},
   "outputs": [
    {
     "name": "stdout",
     "output_type": "stream",
     "text": [
      "     Product Manufacturer  Quantity  Price  Sum Price\n",
      "0       Host     GigaByte       100  10000   900000.0\n",
      "1   Computer         Dell       200   1000   180000.0\n",
      "2     Laptop        Apple       150   2000   270000.0\n",
      "3    Printer           HP       300    500   135000.0\n",
      "4  Projector    Hikvision       250   1500   337500.0\n",
      "5         TV         Sony       175   3000   472500.0\n"
     ]
    }
   ],
   "source": [
    "# Xoá cột VAT\n",
    "df = df.drop('VAT', axis=1)\n",
    "\n",
    "# In ra dataframe sau khi xoá cột VAT\n",
    "print(df)"
   ]
  },
  {
   "cell_type": "code",
   "execution_count": 33,
   "metadata": {},
   "outputs": [
    {
     "name": "stdout",
     "output_type": "stream",
     "text": [
      "     Product Manufacturer  Quantity  Price  Sum Price  Warranty\n",
      "0       Host     GigaByte       100  10000   900000.0        10\n",
      "1   Computer         Dell       200   1000   180000.0        20\n",
      "2     Laptop        Apple       150   2000   270000.0        15\n",
      "3    Printer           HP       300    500   135000.0        30\n",
      "4  Projector    Hikvision       250   1500   337500.0        25\n",
      "5         TV         Sony       175   3000   472500.0        17\n"
     ]
    }
   ],
   "source": [
    "# Thêm cột số lượng sản phẩm trả về bảo hành\n",
    "warranty = [10, 20, 15, 30, 25, 17]\n",
    "df['Warranty'] = warranty\n",
    "\n",
    "# In ra dataframe sau khi thêm cột Warranty\n",
    "print(df)"
   ]
  }
 ],
 "metadata": {
  "kernelspec": {
   "display_name": "Python 3",
   "language": "python",
   "name": "python3"
  },
  "language_info": {
   "codemirror_mode": {
    "name": "ipython",
    "version": 3
   },
   "file_extension": ".py",
   "mimetype": "text/x-python",
   "name": "python",
   "nbconvert_exporter": "python",
   "pygments_lexer": "ipython3",
   "version": "3.13.1"
  }
 },
 "nbformat": 4,
 "nbformat_minor": 2
}
