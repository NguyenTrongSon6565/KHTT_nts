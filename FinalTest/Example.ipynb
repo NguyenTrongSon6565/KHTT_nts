{
 "cells": [
  {
   "cell_type": "markdown",
   "metadata": {},
   "source": [
    "1. Using Numpy to calculate the determined of matrix"
   ]
  },
  {
   "cell_type": "code",
   "execution_count": 5,
   "metadata": {},
   "outputs": [
    {
     "name": "stdout",
     "output_type": "stream",
     "text": [
      "A = [\n",
      "  [ 1  4  2]\n",
      "  [ 1  6  9]\n",
      "  [ 9  5  1]\n",
      "]\n",
      "Det(A) = 183.00\n"
     ]
    }
   ],
   "source": [
    "import numpy as np \n",
    "from scipy import integrate\n",
    "\n",
    "# Tạo ma trận A\n",
    "A = np.array([[1,4,2], [1,6,9], [9,5,1]])\n",
    "\n",
    "# In ra ma trận A và B\n",
    "print('A = [')\n",
    "for row in A:\n",
    "    print(\"  [\" + \" \".join(f\"{val:2}\" for val in row) + \"]\")\n",
    "print(']')\n",
    "\n",
    "Det_A = np.linalg.det(A) # Tính định thức của ma trận A\n",
    "print(f'Det(A) = {Det_A:.2f}') # In ra định thức của ma trận A"
   ]
  },
  {
   "cell_type": "markdown",
   "metadata": {},
   "source": [
    "2. Create a 2 Dimension array with zeros on the borders and one inside"
   ]
  },
  {
   "cell_type": "code",
   "execution_count": 6,
   "metadata": {},
   "outputs": [
    {
     "name": "stdout",
     "output_type": "stream",
     "text": [
      "[[0. 0. 0. 0. 0. 0. 0. 0. 0. 0.]\n",
      " [0. 1. 1. 1. 1. 1. 1. 1. 1. 0.]\n",
      " [0. 1. 1. 1. 1. 1. 1. 1. 1. 0.]\n",
      " [0. 1. 1. 1. 1. 1. 1. 1. 1. 0.]\n",
      " [0. 1. 1. 1. 1. 1. 1. 1. 1. 0.]\n",
      " [0. 1. 1. 1. 1. 1. 1. 1. 1. 0.]\n",
      " [0. 1. 1. 1. 1. 1. 1. 1. 1. 0.]\n",
      " [0. 1. 1. 1. 1. 1. 1. 1. 1. 0.]\n",
      " [0. 1. 1. 1. 1. 1. 1. 1. 1. 0.]\n",
      " [0. 0. 0. 0. 0. 0. 0. 0. 0. 0.]]\n"
     ]
    }
   ],
   "source": [
    "b = np.ones((10,10))\n",
    "b[:,[0, -1]]=0\n",
    "b[[0, -1],:]=0\n",
    "print(b)"
   ]
  },
  {
   "cell_type": "markdown",
   "metadata": {},
   "source": [
    "3. Transpose a 2 Dimension matrix by resevsing it"
   ]
  },
  {
   "cell_type": "code",
   "execution_count": 7,
   "metadata": {},
   "outputs": [
    {
     "name": "stdout",
     "output_type": "stream",
     "text": [
      "A^T = [\n",
      "  [ 1  1  9]\n",
      "  [ 4  6  5]\n",
      "  [ 2  9  1]\n",
      "]\n"
     ]
    }
   ],
   "source": [
    "A_T = A.T # Tính ma trận chuyển vị của ma trận A\n",
    "\n",
    "print('A^T = [') # In ra ma trận chuyển vị của ma trận A\n",
    "for row in A_T:\n",
    "    print(\"  [\" + \" \".join(f\"{val:2}\" for val in row) + \"]\")\n",
    "print(']')"
   ]
  },
  {
   "cell_type": "markdown",
   "metadata": {},
   "source": [
    "4. Using Scipy package to calculate intergration"
   ]
  },
  {
   "cell_type": "code",
   "execution_count": 8,
   "metadata": {},
   "outputs": [
    {
     "name": "stdout",
     "output_type": "stream",
     "text": [
      "(1024.0, 1.1368683772161603e-11)\n"
     ]
    }
   ],
   "source": [
    "def myfunction(x):\n",
    "    # you need to define result\n",
    "    result = x**3\n",
    "    return result\n",
    "\n",
    "integral = integrate.quad(myfunction, 0, 8) # quad là hàm cho phép tính chạy từ a đến b\n",
    "print(integral)"
   ]
  }
 ],
 "metadata": {
  "kernelspec": {
   "display_name": "Python 3",
   "language": "python",
   "name": "python3"
  },
  "language_info": {
   "codemirror_mode": {
    "name": "ipython",
    "version": 3
   },
   "file_extension": ".py",
   "mimetype": "text/x-python",
   "name": "python",
   "nbconvert_exporter": "python",
   "pygments_lexer": "ipython3",
   "version": "3.13.1"
  }
 },
 "nbformat": 4,
 "nbformat_minor": 2
}
